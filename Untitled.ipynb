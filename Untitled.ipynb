{
 "cells": [
  {
   "cell_type": "code",
   "execution_count": null,
   "id": "461d9f6a",
   "metadata": {},
   "outputs": [],
   "source": [
    "#introduction to python\n",
    "'''\n",
    "The programming language Python was conceived in the late 1980s, \n",
    "and its implementation was started in December 1989 by Guido van Rossum at CWI in the Netherlands as a successor to\n",
    "ABC capable of exception handling and interfacing with the Amoeba operating system.\n",
    "\n",
    "Python can be used on a server to create web applications.\n",
    "Python can be used alongside software to create workflows.\n",
    "Python can connect to database systems. It can also read and modify files.\n",
    "Python can be used to handle big data and perform complex mathematics.\n",
    "Python can be used for rapid prototyping, or for production-ready software development.\n",
    "It is possible to write Python in an Integrated Development Environment, such as \n",
    "Thonny, Pycharm, Netbeans or Eclipse which are particularly useful when managing larger collections of Python files.\n",
    "\n",
    "Python was designed for readability, and has some similarities to the English language with influence from mathematics.\n",
    "Python uses new lines to complete a command, as opposed to other programming languages which often use semicolons or parentheses.\n",
    "Python relies on indentation, using whitespace, to define scope; such as the scope of loops, functions and classes. \n",
    "Other programming languages often use curly-brackets for this purpose.\n",
    "'''\n"
   ]
  },
  {
   "cell_type": "code",
   "execution_count": 4,
   "id": "09347bb9",
   "metadata": {},
   "outputs": [
    {
     "name": "stdout",
     "output_type": "stream",
     "text": [
      "<class 'float'>\n"
     ]
    }
   ],
   "source": [
    "#introduction to print and type function\n",
    "#variable(variable rule)\n",
    "#data type\n",
    "'''string\n",
    "    int\n",
    "    float\n",
    "    boolean\n",
    "    list tuple range\n",
    "    byte\n",
    "    \n",
    "'''\n",
    "#operation (+,-,/,*,**,//)\n",
    "#list,tuple,set,dictionaires\n",
    "#conditional statement(if,elif,else)\n",
    "#iteratiion statement(for ,while)\n",
    "\n",
    "#function\n",
    "\n",
    "#module"
   ]
  },
  {
   "cell_type": "code",
   "execution_count": null,
   "id": "d8e57cd0",
   "metadata": {},
   "outputs": [],
   "source": [
    "#exercise:\n",
    "'''write a code to print hello world\n",
    "write a code to store a varible\n",
    "use  the type function to find the type of the data type\n",
    "simple calculation\n",
    "addition\n",
    "\n",
    "\n",
    "'''"
   ]
  }
 ],
 "metadata": {
  "kernelspec": {
   "display_name": "Python 3 (ipykernel)",
   "language": "python",
   "name": "python3"
  },
  "language_info": {
   "codemirror_mode": {
    "name": "ipython",
    "version": 3
   },
   "file_extension": ".py",
   "mimetype": "text/x-python",
   "name": "python",
   "nbconvert_exporter": "python",
   "pygments_lexer": "ipython3",
   "version": "3.9.7"
  }
 },
 "nbformat": 4,
 "nbformat_minor": 5
}
